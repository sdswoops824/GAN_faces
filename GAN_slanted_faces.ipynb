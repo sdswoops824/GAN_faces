{
 "cells": [
  {
   "cell_type": "code",
   "execution_count": 1,
   "id": "43d5d7a9",
   "metadata": {},
   "outputs": [],
   "source": [
    "\n",
    "# Imports\n",
    "\n",
    "import numpy as np\n",
    "from numpy import random\n",
    "from matplotlib import pyplot as plt\n",
    "%matplotlib inline\n",
    "\n"
   ]
  },
  {
   "cell_type": "code",
   "execution_count": 2,
   "id": "b6c93880",
   "metadata": {},
   "outputs": [],
   "source": [
    "\n",
    "# Drawing function\n",
    "\n",
    "def view_samples(samples, m, n):\n",
    "    fig, axes = plt.subplots(figsize=(10, 10), nrows=m, ncols=n, sharey=True, sharex=True)\n",
    "    for ax, img in zip(axes.flatten(), samples):\n",
    "        ax.xaxis.set_visible(False)\n",
    "        ax.yaxis.set_visible(False)\n",
    "        im = ax.imshow(1-img.reshape((2,2)), cmap='Greys_r')  \n",
    "    return fig, axes\n"
   ]
  },
  {
   "cell_type": "code",
   "execution_count": 3,
   "id": "587c7f90",
   "metadata": {},
   "outputs": [
    {
     "data": {
      "image/png": "[encoded data removed]",
      "text/plain": [
       "<Figure size 720x720 with 4 Axes>"
      ]
     },
     "metadata": {
      "needs_background": "light"
     },
     "output_type": "display_data"
    }
   ],
   "source": [
    "# Examples of faces\n",
    "faces = [np.array([1,0,0,1]),\n",
    "         np.array([0.9,0.1,0.2,0.8]),\n",
    "         np.array([0.9,0.2,0.1,0.8]),\n",
    "         np.array([0.8,0.1,0.2,0.9]),\n",
    "         np.array([0.8,0.2,0.1,0.9])]\n",
    "    \n",
    "_ = view_samples(faces, 1, 4)"
   ]
  },
  {
   "cell_type": "code",
   "execution_count": 4,
   "id": "8f768951",
   "metadata": {},
   "outputs": [
    {
     "data": {
      "image/png": "[encoded data removed]",
      "text/plain": [
       "<Figure size 720x720 with 20 Axes>"
      ]
     },
     "metadata": {
      "needs_background": "light"
     },
     "output_type": "display_data"
    }
   ],
   "source": [
    "\n",
    "# Examples of noisy images\n",
    "noise = [np.random.randn(2,2) for i in range(20)]\n",
    "def generate_random_image():\n",
    "    return [np.random.random(), np.random.random(), np.random.random(), np.random.random()]\n",
    "\n",
    "_ = view_samples(noise, 4,5)"
   ]
  },
  {
   "cell_type": "code",
   "execution_count": 5,
   "id": "c9cd0847",
   "metadata": {},
   "outputs": [],
   "source": [
    "# The sigmoid activation function\n",
    "def sigmoid(x):\n",
    "    return np.exp(x)/(1.0+np.exp(x))"
   ]
  },
  {
   "cell_type": "code",
   "execution_count": 6,
   "id": "243dcbd6",
   "metadata": {},
   "outputs": [],
   "source": [
    "class Discriminator():\n",
    "    def __init__(self):\n",
    "        #self.weights = np.array([0.0 for i in range(4)])\n",
    "        #self.bias = 0.0\n",
    "        self.weights = np.array([np.random.normal() for i in range(4)])\n",
    "        self.bias = np.random.normal()\n",
    "    \n",
    "    def forward(self, x):\n",
    "        # Forward pass\n",
    "        return sigmoid(np.dot(x, self.weights) + self.bias)\n",
    "    \n",
    "    def error_from_image(self, image):\n",
    "        prediction = self.forward(image)\n",
    "        # We want the prediction to be 1, so the error is -log(prediction)\n",
    "        return -np.log(prediction)\n",
    "    \n",
    "    def derivatives_from_image(self, image):\n",
    "        prediction = self.forward(image)\n",
    "        derivatives_weights = -image * (1-prediction)\n",
    "        derivative_bias = -(1-prediction)\n",
    "        return derivatives_weights, derivative_bias\n",
    "    \n",
    "    def update_from_image(self, x):\n",
    "        ders = self.derivatives_from_image(x)\n",
    "        self.weights -= learning_rate * ders[0]\n",
    "        self.bias -= learning_rate * ders[1]\n",
    "\n",
    "    def error_from_noise(self, noise):\n",
    "        prediction = self.forward(noise)\n",
    "        # We want the prediction to be 0, so the error is -log(1-prediction)\n",
    "        return -np.log(1-prediction)\n",
    "    \n",
    "    def derivatives_from_noise(self, noise):\n",
    "        prediction = self.forward(noise)\n",
    "        derivatives_weights = noise * prediction\n",
    "        derivative_bias = prediction\n",
    "        return derivatives_weights, derivative_bias\n",
    "    \n",
    "    def update_from_noise(self, noise):\n",
    "        ders = self.derivatives_from_noise(noise)\n",
    "        self.weights -= learning_rate * ders[0]\n",
    "        self.bias -= learning_rate * ders[1]"
   ]
  },
  {
   "cell_type": "code",
   "execution_count": 7,
   "id": "65d1e81f",
   "metadata": {},
   "outputs": [],
   "source": [
    "class Generator():\n",
    "    def __init__(self):\n",
    "        self.weights = np.array([np.random.normal() for i in range(4)])\n",
    "        self.biases = np.array([np.random.normal() for i in range(4)])\n",
    "\n",
    "    def forward(self, z):\n",
    "        # Forward pass\n",
    "        return sigmoid(z * self.weights + self.biases)\n",
    "\n",
    "    def error(self, z, discriminator):\n",
    "        x = self.forward(z)\n",
    "        # We want the prediction to be 0, so the error is -log(1-prediction)\n",
    "        y = discriminator.forward(x)\n",
    "        return -np.log(y)\n",
    "\n",
    "    def derivatives(self, z, discriminator):\n",
    "        discriminator_weights = discriminator.weights\n",
    "        discriminator_bias = discriminator.bias\n",
    "        x = self.forward(z)\n",
    "        y = discriminator.forward(x)\n",
    "        factor = -(1-y) * discriminator_weights * x *(1-x)\n",
    "        derivatives_weights = factor * z\n",
    "        derivative_bias = factor\n",
    "        return derivatives_weights, derivative_bias\n",
    "\n",
    "    def update(self, z, discriminator):\n",
    "        error_before = self.error(z, discriminator)\n",
    "        ders = self.derivatives(z, discriminator)\n",
    "        self.weights -= learning_rate * ders[0]\n",
    "        self.biases -= learning_rate * ders[1]\n",
    "        error_after = self.error(z, discriminator)"
   ]
  },
  {
   "cell_type": "code",
   "execution_count": 8,
   "id": "648be70e",
   "metadata": {},
   "outputs": [],
   "source": [
    "# Set random seed\n",
    "np.random.seed(42)\n",
    "\n",
    "# Hyperparameters\n",
    "learning_rate = 0.01\n",
    "epochs = 1000\n",
    "\n",
    "# The GAN\n",
    "D = Discriminator()\n",
    "G = Generator()\n",
    "\n",
    "# For the error plot\n",
    "errors_discriminator = []\n",
    "errors_generator = []\n",
    "\n",
    "for epoch in range(epochs):\n",
    "    \n",
    "    for face in faces:\n",
    "        \n",
    "        # Update the discriminator weights from the real face\n",
    "        D.update_from_image(face)\n",
    "    \n",
    "        # Pick a random number to generate a fake face\n",
    "        z = random.rand()\n",
    "\n",
    "        # Calculate the discriminator error\n",
    "        errors_discriminator.append(sum(D.error_from_image(face) + D.error_from_noise(z)))\n",
    "        \n",
    "        # Calculate the generator error\n",
    "        errors_generator.append(G.error(z, D))\n",
    "        \n",
    "        # Build a fake face\n",
    "        noise = G.forward(z)\n",
    "        \n",
    "        # Update the discriminator weights from the fake face\n",
    "        D.update_from_noise(noise)\n",
    "    \n",
    "        # Update the generator weights from the fake face\n",
    "        G.update(z, D)"
   ]
  },
  {
   "cell_type": "code",
   "execution_count": 9,
   "id": "90c5ee1a",
   "metadata": {},
   "outputs": [
    {
     "data": {
      "image/png": "[encoded data removed]",
      "text/plain": [
       "<Figure size 432x288 with 1 Axes>"
      ]
     },
     "metadata": {
      "needs_background": "light"
     },
     "output_type": "display_data"
    },
    {
     "data": {
      "text/plain": [
       "Text(0.5, 1.0, 'Discriminator error function')"
      ]
     },
     "execution_count": 9,
     "metadata": {},
     "output_type": "execute_result"
    },
    {
     "data": {
      "image/png": "[encoded data removed]",
      "text/plain": [
       "<Figure size 432x288 with 1 Axes>"
      ]
     },
     "metadata": {
      "needs_background": "light"
     },
     "output_type": "display_data"
    }
   ],
   "source": [
    "import matplotlib.pyplot as plt\n",
    "plt.plot(errors_generator)\n",
    "plt.title(\"Generator error function\")\n",
    "plt.legend(\"gen\")\n",
    "plt.show()\n",
    "plt.plot(errors_discriminator)\n",
    "plt.legend('disc')\n",
    "plt.title(\"Discriminator error function\")"
   ]
  },
  {
   "cell_type": "code",
   "execution_count": 10,
   "id": "6acf690c",
   "metadata": {},
   "outputs": [
    {
     "name": "stdout",
     "output_type": "stream",
     "text": [
      "[0.94688171 0.03401213 0.04080795 0.96308679]\n",
      "[0.95653992 0.03437852 0.03579494 0.97063836]\n",
      "[0.95056667 0.03414339 0.03893305 0.96599501]\n",
      "[0.94228203 0.03386046 0.04309146 0.95941292]\n"
     ]
    },
    {
     "data": {
      "image/png": "[encoded data removed]",
      "text/plain": [
       "<Figure size 720x720 with 4 Axes>"
      ]
     },
     "metadata": {
      "needs_background": "light"
     },
     "output_type": "display_data"
    }
   ],
   "source": [
    "generated_images = []\n",
    "for i in range(4):\n",
    "    z = random.random()\n",
    "    generated_image = G.forward(z)\n",
    "    generated_images.append(generated_image)\n",
    "_ = view_samples(generated_images, 1, 4)\n",
    "for i in generated_images:\n",
    "    print(i)"
   ]
  },
  {
   "cell_type": "code",
   "execution_count": 11,
   "id": "19524f6e",
   "metadata": {},
   "outputs": [
    {
     "name": "stdout",
     "output_type": "stream",
     "text": [
      "Generator weights [ 0.70702123  0.03720449 -0.45703394  0.79375751]\n",
      "Generator biases [ 2.48490157 -3.36725912 -2.90139211  2.8172726 ]\n"
     ]
    }
   ],
   "source": [
    "print(\"Generator weights\", G.weights)\n",
    "print(\"Generator biases\", G.biases)"
   ]
  },
  {
   "cell_type": "code",
   "execution_count": 12,
   "id": "d716c609",
   "metadata": {},
   "outputs": [
    {
     "name": "stdout",
     "output_type": "stream",
     "text": [
      "Discriminator weights [ 0.60175083 -0.29127513 -0.40093314  0.37759987]\n",
      "Discriminator bias -0.8955103005797738\n"
     ]
    }
   ],
   "source": [
    "\n",
    "print(\"Discriminator weights\", D.weights)\n",
    "print(\"Discriminator bias\", D.bias)"
   ]
  },
  {
   "cell_type": "code",
   "execution_count": 13,
   "id": "4b7bfa09",
   "metadata": {},
   "outputs": [
    {
     "data": {
      "image/png": "[encoded data removed]",
      "text/plain": [
       "<Figure size 720x720 with 4 Axes>"
      ]
     },
     "metadata": {
      "needs_background": "light"
     },
     "output_type": "display_data"
    }
   ],
   "source": [
    "# Examples of faces\n",
    "faces = [np.array([0.9,0.1,0.2,0.8]),\n",
    "         np.array([0.9,0.2,0.1,0.8]),\n",
    "         np.array([0.8,0.1,0.2,0.9]),\n",
    "         np.array([0.8,0.2,0.1,0.9])]\n",
    "    \n",
    "_ = view_samples(faces, 1, 4)"
   ]
  },
  {
   "cell_type": "code",
   "execution_count": 14,
   "id": "5632d208",
   "metadata": {},
   "outputs": [
    {
     "data": {
      "image/png": "[encoded data removed]",
      "text/plain": [
       "<Figure size 720x720 with 5 Axes>"
      ]
     },
     "metadata": {
      "needs_background": "light"
     },
     "output_type": "display_data"
    }
   ],
   "source": [
    "# Examples of faces\n",
    "faces = [np.array([1,0,0,1]),\n",
    "         np.array([0.9,0.1,0.2,0.8]),\n",
    "         np.array([0.9,0.2,0.1,0.8]),\n",
    "         np.array([0.8,0.1,0.2,0.9]),\n",
    "         np.array([0.8,0.2,0.1,0.9])]\n",
    "    \n",
    "_ = view_samples(faces, 1, 5)"
   ]
  },
  {
   "cell_type": "code",
   "execution_count": null,
   "id": "63d72d9c",
   "metadata": {},
   "outputs": [],
   "source": []
  }
 ],
 "metadata": {
  "kernelspec": {
   "display_name": "Python 3",
   "language": "python",
   "name": "python3"
  },
  "language_info": {
   "codemirror_mode": {
    "name": "ipython",
    "version": 3
   },
   "file_extension": ".py",
   "mimetype": "text/x-python",
   "name": "python",
   "nbconvert_exporter": "python",
   "pygments_lexer": "ipython3",
   "version": "3.8.8"
  }
 },
 "nbformat": 4,
 "nbformat_minor": 5
}
