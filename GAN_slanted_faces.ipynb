{
 "cells": [
  {
   "cell_type": "code",
   "execution_count": 1,
   "id": "446a0f05",
   "metadata": {},
   "outputs": [],
   "source": [
    "\n",
    "# Imports\n",
    "\n",
    "import numpy as np\n",
    "from numpy import random\n",
    "from matplotlib import pyplot as plt\n",
    "%matplotlib inline\n",
    "\n"
   ]
  },
  {
   "cell_type": "code",
   "execution_count": 2,
   "id": "8924e4ce",
   "metadata": {},
   "outputs": [],
   "source": [
    "\n",
    "# Drawing function\n",
    "\n",
    "def view_samples(samples, m, n):\n",
    "    fig, axes = plt.subplots(figsize=(10, 10), nrows=m, ncols=n, sharey=True, sharex=True)\n",
    "    for ax, img in zip(axes.flatten(), samples):\n",
    "        ax.xaxis.set_visible(False)\n",
    "        ax.yaxis.set_visible(False)\n",
    "        im = ax.imshow(1-img.reshape((2,2)), cmap='Greys_r')  \n",
    "    return fig, axes\n"
   ]
  },
  {
   "cell_type": "code",
   "execution_count": 3,
   "id": "d3efe48c",
   "metadata": {},
   "outputs": [
    {
     "data": {
      "image/png": "[encoded data removed]",
      "text/plain": [
       "<Figure size 720x720 with 4 Axes>"
      ]
     },
     "metadata": {
      "needs_background": "light"
     },
     "output_type": "display_data"
    }
   ],
   "source": [
    "# Examples of faces\n",
    "faces = [np.array([1,0,0,1]),\n",
    "         np.array([0.9,0.1,0.2,0.8]),\n",
    "         np.array([0.9,0.2,0.1,0.8]),\n",
    "         np.array([0.8,0.1,0.2,0.9]),\n",
    "         np.array([0.8,0.2,0.1,0.9])]\n",
    "    \n",
    "_ = view_samples(faces, 1, 4)"
   ]
  },
  {
   "cell_type": "code",
   "execution_count": 4,
   "id": "86611cb8",
   "metadata": {},
   "outputs": [
    {
     "data": {
      "image/png": "[encoded data removed]",
      "text/plain": [
       "<Figure size 720x720 with 20 Axes>"
      ]
     },
     "metadata": {
      "needs_background": "light"
     },
     "output_type": "display_data"
    }
   ],
   "source": [
    "\n",
    "# Examples of noisy images\n",
    "noise = [np.random.randn(2,2) for i in range(20)]\n",
    "def generate_random_image():\n",
    "    return [np.random.random(), np.random.random(), np.random.random(), np.random.random()]\n",
    "\n",
    "_ = view_samples(noise, 4,5)"
   ]
  },
  {
   "cell_type": "code",
   "execution_count": null,
   "id": "45d433b6",
   "metadata": {},
   "outputs": [],
   "source": []
  }
 ],
 "metadata": {
  "kernelspec": {
   "display_name": "Python 3",
   "language": "python",
   "name": "python3"
  },
  "language_info": {
   "codemirror_mode": {
    "name": "ipython",
    "version": 3
   },
   "file_extension": ".py",
   "mimetype": "text/x-python",
   "name": "python",
   "nbconvert_exporter": "python",
   "pygments_lexer": "ipython3",
   "version": "3.8.8"
  }
 },
 "nbformat": 4,
 "nbformat_minor": 5
}
